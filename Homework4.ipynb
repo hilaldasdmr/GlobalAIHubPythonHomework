{
  "nbformat": 4,
  "nbformat_minor": 0,
  "metadata": {
    "colab": {
      "name": "Homework4.ipynb",
      "provenance": [],
      "authorship_tag": "ABX9TyNpPZ0UT3+dVz+FC5ilE6zc",
      "include_colab_link": true
    },
    "kernelspec": {
      "name": "python3",
      "display_name": "Python 3"
    }
  },
  "cells": [
    {
      "cell_type": "markdown",
      "metadata": {
        "id": "view-in-github",
        "colab_type": "text"
      },
      "source": [
        "<a href=\"https://colab.research.google.com/github/hilaldasdmr/GlobalAIHubPythonHomework/blob/main/Homework4.ipynb\" target=\"_parent\"><img src=\"https://colab.research.google.com/assets/colab-badge.svg\" alt=\"Open In Colab\"/></a>"
      ]
    },
    {
      "cell_type": "code",
      "metadata": {
        "id": "2aSSGtTo4k_E"
      },
      "source": [
        "\r\n",
        "name=(\"ARİS TARKUS\")\r\n",
        "for x in range(3):\r\n",
        "  nm=input(\"Please enter your name (uppercase!): \")\r\n",
        "  if nm!=name:\r\n",
        "    print(\"Please enter your name again: \")\r\n",
        "  else:\r\n",
        "     print(\"WELCOME! \",name)\r\n",
        "     break \r\n",
        "\r\n",
        "bn=[]\r\n",
        "f=int(input(\"Select lessons in list, 3<=lessons<=5 : \"))\r\n",
        "if f==3:\r\n",
        "  for s in range(3):\r\n",
        "    a=input(\"Select THREE lessons in list: \")\r\n",
        "    bn.append(a)\r\n",
        "    print(bn)\r\n",
        "elif f==4:\r\n",
        "      for s in range(4):\r\n",
        "        a=input(\"Select FOUR lessons in list: \")\r\n",
        "        bn.append(all)\r\n",
        "        print(bn)\r\n",
        "elif f==5:\r\n",
        "          for s in range(5):\r\n",
        "            a=a=input(\"Select FİVE lessons in list: \")\r\n",
        "            bn.append(a)\r\n",
        "            print(bn)\r\n",
        "\r\n",
        "d=input(\"You select exam: \")\r\n",
        "math={\"midterm\":85,\"final\":65,\"project\":58}\r\n",
        "print(math)\r\n",
        "n=(math[\"midterm\"]*0.3)+(math[\"final\"]*0.5)+(math[\"project\"]*0.2)\r\n",
        "print(\"avg:\",n)\r\n",
        "\r\n",
        "# for x in range(5):\r\n",
        "  # d=input(\"you select exam: \")\r\n",
        "  # if d!=o[0] or d!=o[1] or d!=o[2] or d!=o[3] or d!=o[4]:\r\n",
        "    # print(\"Please enter again: \")\r\n",
        "  # else:                                                                     ???\r\n",
        "     # math={\"midterm\":85,\"final\":65,\"project\":58}\r\n",
        "    # print(math)\r\n",
        "    # kl=(math[\"midterm\"]*0.3)+(math[\"final\"]*0.5)+(math[\"project\"]*0.2)\r\n",
        "    # print(\"avg:\",kl)\r\n",
        "\r\n",
        "def func(n):\r\n",
        "  if n>90:\r\n",
        "    return (\"AA\")\r\n",
        "  elif 70<n<90:\r\n",
        "      return (\"BB\")\r\n",
        "  elif 50<n<70:\r\n",
        "        return (\"CC\")\r\n",
        "  elif 30<n<50:\r\n",
        "          return (\"DD\")\r\n",
        "  elif n<30:\r\n",
        "            return (\"you failed\")\r\n",
        "func(n)"
      ],
      "execution_count": null,
      "outputs": []
    }
  ]
}