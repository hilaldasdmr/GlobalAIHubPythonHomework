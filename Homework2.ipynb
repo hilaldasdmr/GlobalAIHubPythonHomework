{
  "nbformat": 4,
  "nbformat_minor": 0,
  "metadata": {
    "colab": {
      "name": "Homework2.ipynb",
      "provenance": [],
      "authorship_tag": "ABX9TyNGP1kTiX6Qgn+kMAWk3ToD",
      "include_colab_link": true
    },
    "kernelspec": {
      "name": "python3",
      "display_name": "Python 3"
    }
  },
  "cells": [
    {
      "cell_type": "markdown",
      "metadata": {
        "id": "view-in-github",
        "colab_type": "text"
      },
      "source": [
        "<a href=\"https://colab.research.google.com/github/hilaldasdmr/GlobalAIHubPythonHomework/blob/main/Homework2.ipynb\" target=\"_parent\"><img src=\"https://colab.research.google.com/assets/colab-badge.svg\" alt=\"Open In Colab\"/></a>"
      ]
    },
    {
      "cell_type": "code",
      "metadata": {
        "id": "w2HOG4mRVwyt"
      },
      "source": [
        "import random\r\n",
        "g=input(\"Please enter 's' for start or enter 'q' exit :\")\r\n",
        "if g==\"s\":\r\n",
        "  dice=int(input(\"Please enter an integer between 1 and 3:\"))\r\n",
        "  while dice<=3 or dice>=1:\r\n",
        "    x1=random.randint(1,6)\r\n",
        "    x2=random.randint(1,6)\r\n",
        "    x3=random.randint(1,6)\r\n",
        "    if dice==1:\r\n",
        "      print(\"dice1: {}\".format(x1))\r\n",
        "    elif dice==2:\r\n",
        "        print(\"dice1: {} dice2: {}\".format(x1,x2))\r\n",
        "    elif dice==3:\r\n",
        "          print(\"dice1: {} dice2: {} dice3: {}\".format(x1,x2,x3))\r\n",
        "    elif not dice<=3 and dice>=1:\r\n",
        "            print(\"İnvalid value!\")\r\n",
        "            break\r\n",
        "elif g==\"q\":\r\n",
        " print(\"Exit!\")"
      ],
      "execution_count": null,
      "outputs": []
    }
  ]
}