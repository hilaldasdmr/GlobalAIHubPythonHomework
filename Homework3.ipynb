{
  "nbformat": 4,
  "nbformat_minor": 0,
  "metadata": {
    "colab": {
      "name": "Homework3.ipynb",
      "provenance": [],
      "authorship_tag": "ABX9TyMy7qyR1z2ZKzR3H6vNOFAL",
      "include_colab_link": true
    },
    "kernelspec": {
      "name": "python3",
      "display_name": "Python 3"
    }
  },
  "cells": [
    {
      "cell_type": "markdown",
      "metadata": {
        "id": "view-in-github",
        "colab_type": "text"
      },
      "source": [
        "<a href=\"https://colab.research.google.com/github/hilaldasdmr/GlobalAIHubPythonHomework/blob/main/Homework3.ipynb\" target=\"_parent\"><img src=\"https://colab.research.google.com/assets/colab-badge.svg\" alt=\"Open In Colab\"/></a>"
      ]
    },
    {
      "cell_type": "code",
      "metadata": {
        "id": "tBFgMUqanpyw"
      },
      "source": [
        "name=input(\"Please enter your name: \")\r\n",
        "print(\"Heyy! We want to choice two numbers.You can choice 5 times, GOOD LUCK!\",name)\r\n",
        "for x in range(5):\r\n",
        "  v1=int(input(\"Please enter first number between 1 and 10: \"))\r\n",
        "  v2=int(input(\"Please enter second number between 1 and 10: \"))\r\n",
        "  if v1==9 and v2==3:\r\n",
        "    print(\"Congratulations!! True choices : {}, {}\".format(v1,v2))\r\n",
        "    break\r\n",
        "else:\r\n",
        "      print(\"I am sorry, you could not win but you should try again,\", name)\r\n"
      ],
      "execution_count": null,
      "outputs": []
    }
  ]
}