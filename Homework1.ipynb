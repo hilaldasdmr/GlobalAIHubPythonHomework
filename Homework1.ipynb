{
  "nbformat": 4,
  "nbformat_minor": 0,
  "metadata": {
    "colab": {
      "name": "Homework1.ipynb",
      "provenance": [],
      "authorship_tag": "ABX9TyNKqTIw6xS1vidWA5WZifxa",
      "include_colab_link": true
    },
    "kernelspec": {
      "name": "python3",
      "display_name": "Python 3"
    }
  },
  "cells": [
    {
      "cell_type": "markdown",
      "metadata": {
        "id": "view-in-github",
        "colab_type": "text"
      },
      "source": [
        "<a href=\"https://colab.research.google.com/github/hilaldasdmr/GlobalAIHubPythonHomework/blob/main/Homework1.ipynb\" target=\"_parent\"><img src=\"https://colab.research.google.com/assets/colab-badge.svg\" alt=\"Open In Colab\"/></a>"
      ]
    },
    {
      "cell_type": "code",
      "metadata": {
        "id": "CzAWXPJ_JI6P"
      },
      "source": [
        "a=input(\"Please enter your name:\")\r\n",
        "b=input(\"Please enter your surname:\")\r\n",
        "c=input(\"Please enter your age:\")\r\n",
        "d=input(\"Please enter your length:\")\r\n",
        "e=input(\"Please enter your weight:\")\r\n"
      ],
      "execution_count": null,
      "outputs": []
    },
    {
      "cell_type": "code",
      "metadata": {
        "id": "LgeQ63oZK_yo"
      },
      "source": [
        "print(type(a))\r\n",
        "print(type(b))\r\n",
        "print(type(c))\r\n",
        "print(type(d))\r\n",
        "print(type(e))"
      ],
      "execution_count": null,
      "outputs": []
    },
    {
      "cell_type": "code",
      "metadata": {
        "id": "pq7gKPaDLvQq"
      },
      "source": [
        "print(f'My name:{a} My surname:{b} My age:{c} My length:{d} My weight:{e}')"
      ],
      "execution_count": null,
      "outputs": []
    }
  ]
}